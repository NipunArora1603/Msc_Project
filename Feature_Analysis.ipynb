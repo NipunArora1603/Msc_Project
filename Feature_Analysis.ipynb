{
  "nbformat": 4,
  "nbformat_minor": 0,
  "metadata": {
    "colab": {
      "provenance": []
    },
    "kernelspec": {
      "name": "python3",
      "display_name": "Python 3"
    },
    "language_info": {
      "name": "python"
    }
  },
  "cells": [
    {
      "cell_type": "markdown",
      "source": [
        "#Libraries and Google Drive mount"
      ],
      "metadata": {
        "id": "3YqXh3bHhdyk"
      }
    },
    {
      "cell_type": "code",
      "execution_count": null,
      "metadata": {
        "colab": {
          "base_uri": "https://localhost:8080/"
        },
        "id": "Bs49CSIy9FqW",
        "outputId": "5bb74e52-0f4a-4e71-f290-ebdaf6291094"
      },
      "outputs": [
        {
          "output_type": "stream",
          "name": "stdout",
          "text": [
            "Drive already mounted at /content/drive; to attempt to forcibly remount, call drive.mount(\"/content/drive\", force_remount=True).\n"
          ]
        }
      ],
      "source": [
        "import pandas as pd\n",
        "from google.colab import drive\n",
        "from google.colab import files\n",
        "\n",
        "# Mount Google Drive\n",
        "drive.mount('/content/drive')\n",
        "\n",
        "file_path = '/content/drive/My Drive/filtered_horse_racing_data.csv'\n",
        "\n",
        "df = pd.read_csv(file_path)"
      ]
    },
    {
      "cell_type": "markdown",
      "source": [
        "#Feature analysis and removing poorly corelated features\n"
      ],
      "metadata": {
        "id": "3OiDoIFjAbLy"
      }
    },
    {
      "cell_type": "code",
      "source": [
        "# Store the initial number of rows\n",
        "initial_rows = len(df)"
      ],
      "metadata": {
        "id": "019iBkZn9WYc"
      },
      "execution_count": null,
      "outputs": []
    },
    {
      "cell_type": "code",
      "source": [
        "# Select only numerical features for correlation analysis, starting from the 50th column\n",
        "numerical_df = df.select_dtypes(include=['number']).iloc[:, 50:]\n",
        "\n",
        "# Calculate the correlation matrix\n",
        "corr_matrix = numerical_df.corr()"
      ],
      "metadata": {
        "id": "HBEsH3gP9dcy"
      },
      "execution_count": null,
      "outputs": []
    },
    {
      "cell_type": "code",
      "source": [
        "# Set the threshold for high correlation\n",
        "threshold = 0.4\n",
        "# Find highly correlated features\n",
        "highly_correlated_features = set()\n",
        "for i in range(len(corr_matrix.columns)):\n",
        "  for j in range(i):\n",
        "    if abs(corr_matrix.iloc[i, j]) > threshold:\n",
        "      colname1 = corr_matrix.columns[i]\n",
        "      colname2 = corr_matrix.columns[j]\n",
        "      highly_correlated_features.add((colname1, colname2))\n",
        "\n",
        "# Get all unique column names from highly_correlated_features\n",
        "columns_to_keep = set()\n",
        "for col1, col2 in highly_correlated_features:\n",
        "  columns_to_keep.add(col1)\n",
        "  columns_to_keep.add(col2)\n",
        "\n",
        "# Drop poorly correlated columns (those not in columns_to_keep)\n",
        "df_filtered = numerical_df[list(columns_to_keep)]\n",
        "\n",
        "# Print the remaining columns\n",
        "print(\"Remaining columns after dropping poorly correlated columns:\")\n",
        "print(df_filtered.columns)"
      ],
      "metadata": {
        "colab": {
          "base_uri": "https://localhost:8080/"
        },
        "id": "5BdhU8E-9miA",
        "outputId": "8016d2a8-2792-43fb-ea3b-240af9ba581c"
      },
      "execution_count": null,
      "outputs": [
        {
          "output_type": "stream",
          "name": "stdout",
          "text": [
            "Remaining columns after dropping poorly correlated columns:\n",
            "Index(['hrs_wgt_dbw_imp', 'hrs_lto_unfin_fin', 'hrs_avg_life_wins',\n",
            "       'hrs_lr_days_off_hcap', 'hrs_wgt_relative', 'leader_sectional',\n",
            "       'hrs_incident_rate', 'time_diff_per_mile', 'hrs_lr_race_type_key',\n",
            "       'entry_number',\n",
            "       ...\n",
            "       'hrs_ema_5_dbw_imp', 'hrs_best_last_3_mordin_speed', 'hrs_ema_3_dbw',\n",
            "       'hrs_class_wgt_fp', 'hrs_best_last_10_mordin_speed', 'rating_0to100',\n",
            "       'hrs_avg_life_fp', 'hrs_lto_incident', 'hrs_lr_dst_win', 'handicap'],\n",
            "      dtype='object', length=231)\n"
          ]
        }
      ]
    },
    {
      "cell_type": "code",
      "source": [
        "# Create a binary 'won_race' column (1 if position_official is 1, 0 otherwise)\n",
        "df['won_race'] = (df['position_official'] == 1).astype(int)\n",
        "\n",
        "# Select only numerical features for correlation analysis\n",
        "numerical_df = df.select_dtypes(include=['number'])\n",
        "\n",
        "# Calculate the correlation matrix with 'won_race'\n",
        "corr_matrix = numerical_df.corr()['won_race']\n",
        "threshold = 0.4\n",
        "\n",
        "# Find highly correlated features (positive or negative) with 'won_race'\n",
        "highly_correlated_features = corr_matrix[\n",
        "    (corr_matrix > threshold) | (corr_matrix < -threshold)\n",
        "]\n",
        "\n",
        "print(\"Highly correlated features with 'won_race':\")\n",
        "print(highly_correlated_features)"
      ],
      "metadata": {
        "colab": {
          "base_uri": "https://localhost:8080/"
        },
        "id": "g3lIwqHw_kZ-",
        "outputId": "e35d1bb7-8780-4b0b-a7a9-ba2fc8416698"
      },
      "execution_count": null,
      "outputs": [
        {
          "output_type": "stream",
          "name": "stdout",
          "text": [
            "Highly correlated features with 'won_race':\n",
            "position_official    -0.404082\n",
            "position_past_post   -0.458184\n",
            "ip_max               -0.837116\n",
            "win                   0.997724\n",
            "hrs_in_the_money      0.522665\n",
            "hrs_close_fp          0.599259\n",
            "hrs_good_race         0.481663\n",
            "jok_close_fp          0.908002\n",
            "won_race              1.000000\n",
            "Name: won_race, dtype: float64\n"
          ]
        }
      ]
    }
  ]
}