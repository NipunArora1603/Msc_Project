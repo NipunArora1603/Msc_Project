{
  "cells": [
    {
      "cell_type": "markdown",
      "source": [
        "#Libraries Used"
      ],
      "metadata": {
        "id": "GnUzXF34fF_B"
      }
    },
    {
      "cell_type": "code",
      "execution_count": null,
      "metadata": {
        "id": "mkJ3uMUXtNrH"
      },
      "outputs": [],
      "source": [
        "import pandas as pd\n",
        "from google.colab import drive\n",
        "from google.colab import files\n",
        "from sklearn.model_selection import train_test_split\n",
        "from sklearn.tree import DecisionTreeClassifier\n",
        "from sklearn.metrics import accuracy_score, f1_score, precision_score, recall_score, classification_report\n",
        "import matplotlib.pyplot as plt\n",
        "import numpy as np\n",
        "import random\n",
        "import torch\n",
        "from sklearn.preprocessing import StandardScaler\n",
        "import numpy as np\n",
        "from sklearn.impute import SimpleImputer"
      ]
    },
    {
      "cell_type": "markdown",
      "source": [
        "#Mount GOOGLE DRIVE"
      ],
      "metadata": {
        "id": "dXB2wWMRd6C4"
      }
    },
    {
      "cell_type": "code",
      "execution_count": null,
      "metadata": {
        "id": "7kNrYQMncUJ2",
        "colab": {
          "base_uri": "https://localhost:8080/"
        },
        "outputId": "9bd47b83-14f1-42c8-e559-b2e6d3090c20"
      },
      "outputs": [
        {
          "output_type": "stream",
          "name": "stdout",
          "text": [
            "Mounted at /content/drive\n"
          ]
        },
        {
          "output_type": "stream",
          "name": "stderr",
          "text": [
            "<ipython-input-3-1de116531417>:6: DtypeWarning: Columns (50,53) have mixed types. Specify dtype option on import or set low_memory=False.\n",
            "  df = pd.read_csv(file_path)\n"
          ]
        }
      ],
      "source": [
        "drive.mount('/content/drive')\n",
        "\n",
        "file_path = '/content/drive/My Drive/test_and_train.csv'\n",
        "\n",
        "df = pd.read_csv(file_path)"
      ]
    },
    {
      "cell_type": "markdown",
      "source": [
        "#Creating a copy of orignal dataframe"
      ],
      "metadata": {
        "id": "_OoMkZiCeAOw"
      }
    },
    {
      "cell_type": "code",
      "execution_count": null,
      "metadata": {
        "id": "mapK_amXHajx"
      },
      "outputs": [],
      "source": [
        "df_original = df.copy()"
      ]
    },
    {
      "cell_type": "markdown",
      "source": [
        "#Converting date column in 'datetime' object"
      ],
      "metadata": {
        "id": "EpEVuL7weGb2"
      }
    },
    {
      "cell_type": "code",
      "execution_count": null,
      "metadata": {
        "id": "9MBdmUq7Vg02",
        "colab": {
          "base_uri": "https://localhost:8080/"
        },
        "outputId": "efb879fd-b828-4608-fa22-436c390db6e8"
      },
      "outputs": [
        {
          "output_type": "stream",
          "name": "stdout",
          "text": [
            "       meeting_date  course_id  Unnamed: 0  race_number  horse_code  \\\n",
            "176050   2014-02-11         47           0            3      312037   \n",
            "176047   2014-02-11         47           0            6      360458   \n",
            "176046   2014-02-11          2           0            4      321870   \n",
            "176045   2014-02-11          2           0            2      351605   \n",
            "176044   2014-02-11          2           0            5      224734   \n",
            "...             ...        ...         ...          ...         ...   \n",
            "175923   2021-11-15         40           0            5      514475   \n",
            "175922   2021-11-15         29           0            6      471914   \n",
            "175921   2021-11-15         29           0            5      557760   \n",
            "175929   2021-11-15         40           0            6      496189   \n",
            "175983   2021-11-15         29           0            1      558279   \n",
            "\n",
            "       course_name country_code            horse_name  horse_age horse_gender  \\\n",
            "176050   SOUTHWELL          GBR        ARABIAN FLIGHT          5            f   \n",
            "176047   SOUTHWELL          GBR   NICK THE ODDS (IRE)          3            g   \n",
            "176046         AYR          GBR        BALLYBEN (IRE)          6            g   \n",
            "176045         AYR          GBR        MYSTEREE (IRE)          6            g   \n",
            "176044         AYR          GBR      STRATHAIRD (IRE)         10            g   \n",
            "...            ...          ...                   ...        ...          ...   \n",
            "175923    PLUMPTON          GBR     SOLDIER ON PARADE          4            g   \n",
            "175922   LEICESTER          GBR    THE RAVEN'S RETURN          8            g   \n",
            "175921   LEICESTER          GBR    UNFINISHED BUSINES          3            f   \n",
            "175929    PLUMPTON          GBR  UALLRIGHTHARRY (IRE)          9            g   \n",
            "175983   LEICESTER          GBR              BATCH ME          5            f   \n",
            "\n",
            "        ...  hrs_lto_mordin_speed_rank  hrs_lto_2_mordin_speed_rank  \\\n",
            "176050  ...                        1.0                          1.0   \n",
            "176047  ...                        1.0                          1.0   \n",
            "176046  ...                        3.0                          2.0   \n",
            "176045  ...                        3.0                          2.0   \n",
            "176044  ...                        4.0                          6.0   \n",
            "...     ...                        ...                          ...   \n",
            "175923  ...                        6.0                          4.0   \n",
            "175922  ...                        6.0                          3.0   \n",
            "175921  ...                        NaN                          NaN   \n",
            "175929  ...                        2.0                          1.0   \n",
            "175983  ...                        8.0                          NaN   \n",
            "\n",
            "        hrs_lto_3_mordin_speed_rank  hrs_best_last_3_mordin_speed_rank  \\\n",
            "176050                          4.0                                1.0   \n",
            "176047                          7.0                                1.0   \n",
            "176046                          2.0                                3.0   \n",
            "176045                          1.0                                3.0   \n",
            "176044                          3.0                                7.0   \n",
            "...                             ...                                ...   \n",
            "175923                          4.0                                4.0   \n",
            "175922                          5.0                                7.0   \n",
            "175921                          NaN                                NaN   \n",
            "175929                          3.0                                1.0   \n",
            "175983                          NaN                                8.0   \n",
            "\n",
            "        hrs_best_last_5_mordin_speed_rank  hrs_best_last_10_mordin_speed_rank  \\\n",
            "176050                                2.0                                 3.0   \n",
            "176047                                1.0                                 2.0   \n",
            "176046                                2.0                                 2.0   \n",
            "176045                                2.0                                 2.0   \n",
            "176044                                7.0                                 7.0   \n",
            "...                                   ...                                 ...   \n",
            "175923                                4.0                                 3.0   \n",
            "175922                                7.0                                 3.0   \n",
            "175921                                NaN                                 NaN   \n",
            "175929                                1.0                                 1.0   \n",
            "175983                                8.0                                 8.0   \n",
            "\n",
            "       hrs_best_all_mordin_speed_rank  hrs_best_all_mordin_speed_going  \\\n",
            "176050                            3.0                             66.0   \n",
            "176047                            2.0                             66.0   \n",
            "176046                            2.0                             68.0   \n",
            "176045                            2.0                             65.0   \n",
            "176044                            7.0                             59.0   \n",
            "...                               ...                              ...   \n",
            "175923                            1.0                             68.0   \n",
            "175922                            4.0                             65.0   \n",
            "175921                            NaN                              NaN   \n",
            "175929                            1.0                             63.0   \n",
            "175983                            8.0                             13.0   \n",
            "\n",
            "        hrs_best_last_3_mordin_speed_going  \\\n",
            "176050                                66.0   \n",
            "176047                                66.0   \n",
            "176046                                68.0   \n",
            "176045                                65.0   \n",
            "176044                                57.0   \n",
            "...                                    ...   \n",
            "175923                                66.0   \n",
            "175922                                57.0   \n",
            "175921                                 NaN   \n",
            "175929                                63.0   \n",
            "175983                                13.0   \n",
            "\n",
            "        hrs_best_last_3_mordin_speed_rank_going  \n",
            "176050                                      2.0  \n",
            "176047                                      1.0  \n",
            "176046                                      2.0  \n",
            "176045                                      4.0  \n",
            "176044                                      7.0  \n",
            "...                                         ...  \n",
            "175923                                      5.0  \n",
            "175922                                      6.0  \n",
            "175921                                      NaN  \n",
            "175929                                      2.0  \n",
            "175983                                      8.0  \n",
            "\n",
            "[922755 rows x 250 columns]\n"
          ]
        }
      ],
      "source": [
        "df['meeting_date'] = pd.to_datetime(df['meeting_date'])\n",
        "\n",
        "# Sort the DataFrame by the 'date' column in ascending order\n",
        "df_sorted = df.sort_values(by='meeting_date')\n",
        "print(df_sorted)"
      ]
    },
    {
      "cell_type": "markdown",
      "source": [
        "#Dealing with the missing values of the Dataset\n"
      ],
      "metadata": {
        "id": "LHiOxzH6eiGI"
      }
    },
    {
      "cell_type": "code",
      "execution_count": null,
      "metadata": {
        "id": "QgzLU19Gcf4z",
        "colab": {
          "base_uri": "https://localhost:8080/"
        },
        "outputId": "7e6ecb8d-5774-488d-89b8-14669359f95e"
      },
      "outputs": [
        {
          "output_type": "stream",
          "name": "stdout",
          "text": [
            "equipment_char                             591901\n",
            "horses_for_course_neg                         122\n",
            "pre_race_master_symbol                     700788\n",
            "jockey_uplift                                 122\n",
            "trainer_uplift                                122\n",
            "                                            ...  \n",
            "hrs_best_last_10_mordin_speed_rank         112858\n",
            "hrs_best_all_mordin_speed_rank             112858\n",
            "hrs_best_all_mordin_speed_going            112858\n",
            "hrs_best_last_3_mordin_speed_going         112858\n",
            "hrs_best_last_3_mordin_speed_rank_going    112858\n",
            "Length: 77, dtype: int64\n"
          ]
        }
      ],
      "source": [
        "missing_values = df.isnull().sum()\n",
        "missing_values = missing_values[missing_values > 0]\n",
        "print(missing_values)"
      ]
    },
    {
      "cell_type": "code",
      "execution_count": null,
      "metadata": {
        "id": "VEQMYfQmcpG0",
        "colab": {
          "base_uri": "https://localhost:8080/"
        },
        "outputId": "371bd7b5-fe33-435e-92c7-58d08357cedf"
      },
      "outputs": [
        {
          "output_type": "stream",
          "name": "stdout",
          "text": [
            "Dropped Columns: ['equipment_char', 'pre_race_master_symbol', 'form_figures', 'crs_dis_win_fav_text', 'hrs_best_fp_7to12', 'hrs_total_class_wins', 'hrs_days_since_incident']\n",
            "New DataFrame Shape: (922755, 243)\n"
          ]
        }
      ],
      "source": [
        "# Calculate the threshold for 30% missing values\n",
        "threshold = len(df) * 0.3\n",
        "# Drop columns where the number of missing values exceeds the threshold, excluding 'position_official'\n",
        "columns_to_drop = df.columns[(df.isnull().sum() > threshold) & (df.columns != 'position_official')]\n",
        "df = df.drop(columns=columns_to_drop)\n",
        "\n",
        "# For numerical columns, use mean imputation\n",
        "num_imputer = SimpleImputer(strategy='mean')\n",
        "numerical_cols = df.select_dtypes(include=['number']).columns\n",
        "df[numerical_cols] = num_imputer.fit_transform(df[numerical_cols])\n",
        "\n",
        "# For categorical columns, use the most frequent value\n",
        "cat_imputer = SimpleImputer(strategy='most_frequent')\n",
        "categorical_cols = df.select_dtypes(include=['object']).columns\n",
        "df[categorical_cols] = cat_imputer.fit_transform(df[categorical_cols])\n",
        "# Display the columns that were dropped and the new shape of the dataframe\n",
        "print(\"Dropped Columns:\", list(columns_to_drop))\n",
        "print(\"New DataFrame Shape:\", df.shape)"
      ]
    },
    {
      "cell_type": "markdown",
      "source": [
        "# Filter out races with less than 5 or more than 20 horses\n"
      ],
      "metadata": {
        "id": "-DRU8MMYf1Qv"
      }
    },
    {
      "cell_type": "code",
      "execution_count": null,
      "metadata": {
        "id": "vSmlrY9uHyHb",
        "colab": {
          "base_uri": "https://localhost:8080/"
        },
        "outputId": "3339b159-ac9d-469b-d92c-b4fb96da1604"
      },
      "outputs": [
        {
          "output_type": "stream",
          "name": "stdout",
          "text": [
            "       meeting_date  course_id  Unnamed: 0  race_number  horse_code  \\\n",
            "176050   2014-02-11       47.0         0.0          3.0    312037.0   \n",
            "176047   2014-02-11       47.0         0.0          6.0    360458.0   \n",
            "176046   2014-02-11        2.0         0.0          4.0    321870.0   \n",
            "176045   2014-02-11        2.0         0.0          2.0    351605.0   \n",
            "176044   2014-02-11        2.0         0.0          5.0    224734.0   \n",
            "...             ...        ...         ...          ...         ...   \n",
            "175923   2021-11-15       40.0         0.0          5.0    514475.0   \n",
            "175922   2021-11-15       29.0         0.0          6.0    471914.0   \n",
            "175921   2021-11-15       29.0         0.0          5.0    557760.0   \n",
            "175929   2021-11-15       40.0         0.0          6.0    496189.0   \n",
            "175983   2021-11-15       29.0         0.0          1.0    558279.0   \n",
            "\n",
            "       course_name country_code            horse_name  horse_age horse_gender  \\\n",
            "176050   SOUTHWELL          GBR        ARABIAN FLIGHT        5.0            f   \n",
            "176047   SOUTHWELL          GBR   NICK THE ODDS (IRE)        3.0            g   \n",
            "176046         AYR          GBR        BALLYBEN (IRE)        6.0            g   \n",
            "176045         AYR          GBR        MYSTEREE (IRE)        6.0            g   \n",
            "176044         AYR          GBR      STRATHAIRD (IRE)       10.0            g   \n",
            "...            ...          ...                   ...        ...          ...   \n",
            "175923    PLUMPTON          GBR     SOLDIER ON PARADE        4.0            g   \n",
            "175922   LEICESTER          GBR    THE RAVEN'S RETURN        8.0            g   \n",
            "175921   LEICESTER          GBR    UNFINISHED BUSINES        3.0            f   \n",
            "175929    PLUMPTON          GBR  UALLRIGHTHARRY (IRE)        9.0            g   \n",
            "175983   LEICESTER          GBR              BATCH ME        5.0            f   \n",
            "\n",
            "        ...  hrs_lto_mordin_speed_rank  hrs_lto_2_mordin_speed_rank  \\\n",
            "176050  ...                    1.00000                     1.000000   \n",
            "176047  ...                    1.00000                     1.000000   \n",
            "176046  ...                    3.00000                     2.000000   \n",
            "176045  ...                    3.00000                     2.000000   \n",
            "176044  ...                    4.00000                     6.000000   \n",
            "...     ...                        ...                          ...   \n",
            "175923  ...                    6.00000                     4.000000   \n",
            "175922  ...                    6.00000                     3.000000   \n",
            "175921  ...                    5.20701                     5.135462   \n",
            "175929  ...                    2.00000                     1.000000   \n",
            "175983  ...                    8.00000                     5.135462   \n",
            "\n",
            "        hrs_lto_3_mordin_speed_rank  hrs_best_last_3_mordin_speed_rank  \\\n",
            "176050                     4.000000                           1.000000   \n",
            "176047                     7.000000                           1.000000   \n",
            "176046                     2.000000                           3.000000   \n",
            "176045                     1.000000                           3.000000   \n",
            "176044                     3.000000                           7.000000   \n",
            "...                             ...                                ...   \n",
            "175923                     4.000000                           4.000000   \n",
            "175922                     5.000000                           7.000000   \n",
            "175921                     5.159202                           4.980456   \n",
            "175929                     3.000000                           1.000000   \n",
            "175983                     5.159202                           8.000000   \n",
            "\n",
            "        hrs_best_last_5_mordin_speed_rank  hrs_best_last_10_mordin_speed_rank  \\\n",
            "176050                           2.000000                            3.000000   \n",
            "176047                           1.000000                            2.000000   \n",
            "176046                           2.000000                            2.000000   \n",
            "176045                           2.000000                            2.000000   \n",
            "176044                           7.000000                            7.000000   \n",
            "...                                   ...                                 ...   \n",
            "175923                           4.000000                            3.000000   \n",
            "175922                           7.000000                            3.000000   \n",
            "175921                           4.867195                            4.780666   \n",
            "175929                           1.000000                            1.000000   \n",
            "175983                           8.000000                            8.000000   \n",
            "\n",
            "        hrs_best_all_mordin_speed_rank  hrs_best_all_mordin_speed_going  \\\n",
            "176050                        3.000000                        66.000000   \n",
            "176047                        2.000000                        66.000000   \n",
            "176046                        2.000000                        68.000000   \n",
            "176045                        2.000000                        65.000000   \n",
            "176044                        7.000000                        59.000000   \n",
            "...                                ...                              ...   \n",
            "175923                        1.000000                        68.000000   \n",
            "175922                        4.000000                        65.000000   \n",
            "175921                        4.841296                        65.151698   \n",
            "175929                        1.000000                        63.000000   \n",
            "175983                        8.000000                        13.000000   \n",
            "\n",
            "        hrs_best_last_3_mordin_speed_going  \\\n",
            "176050                           66.000000   \n",
            "176047                           66.000000   \n",
            "176046                           68.000000   \n",
            "176045                           65.000000   \n",
            "176044                           57.000000   \n",
            "...                                    ...   \n",
            "175923                           66.000000   \n",
            "175922                           57.000000   \n",
            "175921                           64.473054   \n",
            "175929                           63.000000   \n",
            "175983                           13.000000   \n",
            "\n",
            "        hrs_best_last_3_mordin_speed_rank_going  \n",
            "176050                                 2.000000  \n",
            "176047                                 1.000000  \n",
            "176046                                 2.000000  \n",
            "176045                                 4.000000  \n",
            "176044                                 7.000000  \n",
            "...                                         ...  \n",
            "175923                                 5.000000  \n",
            "175922                                 6.000000  \n",
            "175921                                 5.069651  \n",
            "175929                                 2.000000  \n",
            "175983                                 8.000000  \n",
            "\n",
            "[922755 rows x 243 columns]\n",
            "Dropped Columns: ['races with less than 5 or more than 20 horses', 'races with multiple winners']\n",
            "New DataFrame Shape: (882983, 243)\n"
          ]
        }
      ],
      "source": [
        "# Print the sorted DataFrame\n",
        "print(df)\n",
        "\n",
        "# Filter out races with less than 5 or more than 20 horses\n",
        "df = df[(df['number_of_runners'] >= 5) & (df['number_of_runners'] <= 20)]\n",
        "\n",
        "# Group by race id and count the number of winners\n",
        "winners_per_race = df[df['win'] == 1].groupby('race_id').size()\n",
        "\n",
        "# Identify races with more than one winner\n",
        "races_with_multiple_winners = winners_per_race[winners_per_race > 1].index\n",
        "\n",
        "# Filter out races with multiple winners\n",
        "df = df[~df['race_id'].isin(races_with_multiple_winners)]\n",
        "\n",
        "# Print the columns that were dropped and the new shape of the DataFrame\n",
        "print(\"Dropped Columns: ['races with less than 5 or more than 20 horses', 'races with multiple winners']\")\n",
        "print(\"New DataFrame Shape:\", df.shape)"
      ]
    },
    {
      "cell_type": "markdown",
      "source": [
        "#Defining Pre-Race features and developing a correaltion matrix\n",
        "\n",
        "\n"
      ],
      "metadata": {
        "id": "2zkIj5C9gADv"
      }
    },
    {
      "cell_type": "code",
      "execution_count": null,
      "metadata": {
        "colab": {
          "base_uri": "https://localhost:8080/"
        },
        "id": "6nsNsNb-dfpX",
        "outputId": "9d8f5b9d-5627-4511-9795-099c46eeba98"
      },
      "outputs": [
        {
          "output_type": "stream",
          "name": "stdout",
          "text": [
            "Kept Columns with High Correlation: ['hrs_lto_win', 'hrs_consistency_bin_10', 'hrs_lto_mordin_speed_rank', 'hrs_days_off_bin', 'horse_age', 'hrs_wgt_dbw_imp', 'hrs_avg_life_dbw_imp', 'draw', 'trn_par_hr', 'hrs_best_last_5_mordin_speed', 'hrs_incident_rate', 'hrs_best_all_mordin_speed', 'hrs_lay_off', 'hrs_best_last_3_mordin_speed_going', 'hrs_hrs_ema_3_fp_imp', 'handicap_mark', 'hrs_ema_3_dbw', 'wins_at_distance', 'hrs_down_class_diff_race_type', 'hrs_wgt_win', 'hrs_total_wgt', 'pre_race_master_rating', 'hrs_wgt_win_imp', 'hrs_career_races', 'hrs_first_run', 'pre_race_adjusted_rating', 'hrs_hrs_ema_5_fp_imp', 'hrs_lto_incident', 'hrs_lto_total_wgt', 'hrs_avg_life_wins_imp', 'hrs_dst_win', 'hrs_total_incidents', 'jok_pareto_999', 'hrs_sum_wins_last_10_races', 'year', 'hrs_wgt_relative_dst', 'hrs_wgt_relative', 'race_class', 'hrs_best_fp_6', 'hrs_wgt_total_wgt', 'hrs_consistency_bin', 'trn_pareto_999', 'horse_code', 'trn_jok_prop', 'bha_rating', 'hrs_lto_winning_margin_lost', 'hrs_lto_bottom_half_fin', 'hrs_lto_bsp_win_rank', 'hrs_ema_5_win', 'hrs_lto_unfin_fin', 'trn_jok_pareto_999', 'trn_pareto_100', 'hrs_wgt_dbw', 'jok_race_number', 'hrs_best_all_mordin_speed_rank', 'number_of_runners', 'hrs_avg_life_wins', 'hrs_lto_pcnt_beaten', 'days_off', 'hrs_best_all_time_lto_fp', 'saddle_cloth', 'hrs_won_in_last_10_races', 'hrs_lto_unfin_dnf', 'hrs_ema_5_wdbw', 'entry_number', 'hrs_days_since_ran_x_lto_fp', 'long_handicap', 'distance_yards', 'trn_jok_par_bins', 'bf_selection_id', 'trn_par_prop', 'bf_market_id', 'hrs_best_fp_10', 'jok_par_bins', 'jok_pareto_100', 'wins_at_course_distance', 'hrs_lto_close_fp', 'hrs_wgt_fp_imp', 'handicap', 'hrs_ema_3_dbw_imp', 'hrs_best_last_5_mordin_speed_rank', 'hrs_lto_dbw', 'hrs_best_fp_3', 'hrs_lto_class', 'hrs_consistency', 'hrs_lto_mordin_speed', 'trn_jok_pareto_100', 'hrs_crs_dst_win', 'hrs_lto_career_wins', 'hrs_lto_in_the_money', 'hrs_best_last_3_mordin_speed_rank', 'number_of_places', 'hrs_lto_good_race', 'hrs_days_off', 'jok_races_in_day', 'hrs_ema_3_win_imp', 'hrs_ema_5_fp', 'hrs_ema_3_fp', 'hrs_avg_life_total_wgt', 'hrs_race_type_delta', 'hrs_best_last_10_mordin_speed', 'hrs_wgt_fp', 'hrs_ema_5_dbw_imp', 'hrs_lto_fp_imp', 'long_hcap_bin', 'hrs_best_all_mordin_speed_going', 'hrs_lto_unfin_fr', 'hrs_avg_life_fp', 'hrs_ema_3_win', 'hrs_best_last_3_mordin_speed', 'age_bin', 'weight_carried', 'hrs_lto_fp', 'hrs_class_wgt_fp', 'hrs_best_last_10_mordin_speed_rank', 'hrs_lto_winning_margin_close_fin', 'jok_par_prop', 'hrs_ema_5_win_imp', 'hrs_crs_win', 'trn_par_bins', 'wins_at_course', 'hrs_avg_life_fp_imp', 'hrs_avg_life_dbw', 'meeting_date']\n",
            "New DataFrame Shape after Keeping Highly Correlated Columns: (882983, 124)\n"
          ]
        },
        {
          "output_type": "stream",
          "name": "stderr",
          "text": [
            "<ipython-input-10-6781e0513d26>:77: PerformanceWarning: DataFrame is highly fragmented.  This is usually the result of calling `frame.insert` many times, which has poor performance.  Consider joining all columns at once using pd.concat(axis=1) instead. To get a de-fragmented frame, use `newframe = frame.copy()`\n",
            "  df[col] = df_original[col]\n",
            "<ipython-input-10-6781e0513d26>:77: SettingWithCopyWarning: \n",
            "A value is trying to be set on a copy of a slice from a DataFrame.\n",
            "Try using .loc[row_indexer,col_indexer] = value instead\n",
            "\n",
            "See the caveats in the documentation: https://pandas.pydata.org/pandas-docs/stable/user_guide/indexing.html#returning-a-view-versus-a-copy\n",
            "  df[col] = df_original[col]\n"
          ]
        }
      ],
      "source": [
        "# Define the list of pre-race features to keep\n",
        "pre_race_features = [\n",
        "    'meeting_date', 'course_id', 'race_number', 'horse_code', 'course_name', 'country_code', 'horse_name', 'horse_age',\n",
        "    'horse_gender', 'draw', 'weight_carried', 'jockey_name', 'jockey_code', 'apprentice_claim', 'trainer_name',\n",
        "    'trainer_code', 'owner_name', 'owner_code', 'equipment', 'equipment_char', 'handicap_mark', 'long_handicap',\n",
        "    'horses_for_course_neg', 'horses_for_course_pos', 'pre_race_adjusted_rating', 'pre_race_master_rating',\n",
        "    'pre_race_epf', 'pre_race_master_symbol', 'horse_in_focus', 'warning_horse', 'jockey_uplift', 'trainer_uplift',\n",
        "    'hot_trainer', 'cold_trainer', 'sectional_flag', 'top_rated', 'equipment_first_time', 'wind_op',\n",
        "    'scheduled_time_gmt', 'scheduled_time_bst', 'actual_race_time_local', 'surface_type', 'race_type', 'distance_furlong',\n",
        "    'race_title', 'going', 'going_abbrev', 'number_of_runners', 'number_of_places', 'race_code', 'prize_fund',\n",
        "    'pre_race_review', 'race_class', 'bf_market_id', 'distance_type', 'race_id', 'saddle_cloth', 'significant_improver',\n",
        "    'jockey_in_form', 'form_figures', 'entry_number', 'bha_rating', 'crs_dis_win_fav_text', 'days_off', 'bf_selection_id',\n",
        "    'last_run_flat', 'last_run_jump', 'wins_at_course', 'wins_at_distance', 'wins_at_course_distance', 'penalty',\n",
        "    'first_time_tongue_tie', 'trainer_off_break', 'trainer_first_time_equipment', 'trainer_handicap_debutants',\n",
        "    'sire_cd', 'sire_going', 'novice', 'juvenile', 'hunter_chase', 'stakes', 'maiden', 'amateur', 'apprentice',\n",
        "    'listed', 'handicap', 'race_type_v2', 'age_bin', 'long_hcap_bin', 'max_age_value', 'month', 'year', 'w_day',\n",
        "    'week_no', 'win', 'distance_yards', 'dst_grps', 'hrs_career_races', 'hrs_lto_bsp_win_rank', 'hrs_days_off',\n",
        "    'hrs_days_off_bin', 'hrs_last_2_form', 'hrs_first_run', 'hrs_lto_unfin', 'hrs_lto_unfin_fr', 'hrs_lto_unfin_fin',\n",
        "    'hrs_lto_unfin_dnf', 'hrs_lto_race_type', 'hrs_race_type_delta', 'hrs_crs_win', 'hrs_dst_win', 'hrs_crs_dst_win',\n",
        "    'hrs_crs_dst_nov_win', 'hrs_crs_dst_hcap_win', 'hrs_lto_in_the_money', 'hrs_lto_close_fp', 'hrs_lto_good_race',\n",
        "    'hrs_consistency', 'hrs_consistency_bin', 'hrs_consistency_bin_100', 'hrs_consistency_bin_60',\n",
        "    'hrs_consistency_bin_30', 'hrs_consistency_bin_10', 'hrs_consistency_bin_70', 'hrs_consistency_bin_80',\n",
        "    'hrs_consistency_bin_90', 'hrs_days_since_good_race', 'hrs_has_going_wins', 'hrs_lto_winning_margin',\n",
        "    'hrs_lto_winning_margin_lost', 'hrs_lto_winning_margin_close_fin', 'hrs_lto_winning_margin_good_fin',\n",
        "    'hrs_prms_blank', 'hrs_prms_small_p', 'hrs_prms_plus', 'hrs_prms_question', 'hrs_prms_squiggle', 'hrs_prms_other',\n",
        "    'hrs_lto_fp', 'hrs_lto_fp_imp', 'hrs_avg_life_fp', 'hrs_avg_life_fp_imp', 'hrs_wgt_fp', 'hrs_wgt_fp_imp',\n",
        "    'hrs_ema_3_fp', 'hrs_ema_5_fp', 'hrs_hrs_ema_3_fp_imp', 'hrs_hrs_ema_5_fp_imp', 'hrs_best_all_time_lto_fp',\n",
        "    'hrs_best_fp_10', 'hrs_best_fp_6', 'hrs_best_fp_3', 'hrs_best_fp_7to12', 'hrs_lto_win', 'hrs_lto_career_wins',\n",
        "    'hrs_avg_life_wins', 'hrs_avg_life_wins_imp', 'hrs_wgt_win', 'hrs_wgt_win_imp', 'hrs_ema_3_win', 'hrs_ema_5_win',\n",
        "    'hrs_ema_3_win_imp', 'hrs_ema_5_win_imp', 'hrs_sum_wins_last_10_races', 'hrs_won_in_last_10_races',\n",
        "    'hrs_days_since_ran_x_lto_fp', 'hrs_lto_pcnt_beaten', 'hrs_lto_top_half_fin', 'hrs_lto_bottom_half_fin', 'hrs_lto_dbw',\n",
        "    'hrs_avg_life_dbw', 'hrs_avg_life_dbw_imp', 'hrs_wgt_dbw', 'hrs_wgt_dbw_imp', 'hrs_ema_3_dbw', 'hrs_ema_5_wdbw',\n",
        "    'hrs_ema_3_dbw_imp', 'hrs_ema_5_dbw_imp', 'hrs_lay_off', 'hrs_races_since_layoff', 'hrs_races_since_windop',\n",
        "    'hrs_new_dist', 'hrs_lto_class', 'hrs_class_delta', 'hrs_race_code_delta', 'hrs_same_class_same_race_type',\n",
        "    'hrs_down_class_same_race_type', 'hrs_up_class_same_race_type', 'hrs_up_class_diff_race_type',\n",
        "    'hrs_down_class_diff_race_type', 'hrs_same_class_diff_race_type', 'hrs_class_wgt_fp', 'hrs_total_class_wins',\n",
        "    'hrs_won_higher_class', 'hrs_total_wgt', 'hrs_lto_total_wgt', 'hrs_avg_life_total_wgt', 'hrs_wgt_total_wgt',\n",
        "    'hrs_wgt_relative', 'hrs_wgt_relative_dst', 'hrs_first_time_equip', 'hrs_trn_delta', 'hrs_lto_incident',\n",
        "    'hrs_days_since_incident', 'hrs_total_incidents', 'hrs_incident_rate', 'trn_par_bins', 'trn_par_hr', 'trn_par_prop',\n",
        "    'trn_pareto_2', 'trn_pareto_20', 'trn_pareto_50', 'trn_pareto_10', 'trn_pareto_999', 'trn_pareto_5',\n",
        "    'trn_pareto_100', 'jok_par_bins', 'jok_par_hr', 'jok_par_prop', 'jok_pareto_10', 'jok_pareto_5', 'jok_pareto_100',\n",
        "    'jok_pareto_2', 'jok_pareto_50', 'jok_pareto_20', 'jok_pareto_999', 'trn_jok_par_bins', 'trn_jok_hr',\n",
        "    'trn_jok_prop', 'trn_jok_pareto_100', 'trn_jok_pareto_999', 'trn_jok_pareto_2', 'position_official',\n",
        "    'trn_jok_pareto_10', 'trn_jok_pareto_5', 'trn_jok_pareto_50', 'trn_hrs_cnt', 'trn_one_hrs', 'jok_career_races',\n",
        "    'jok_debut', 'jok_races_in_day', 'jok_unique_races', 'jok_race_number', 'hrs_lto_mordin_speed',\n",
        "    'hrs_lto_2_mordin_speed', 'hrs_lto_3_mordin_speed', 'hrs_best_last_3_mordin_speed', 'hrs_best_last_5_mordin_speed',\n",
        "    'hrs_best_last_10_mordin_speed', 'hrs_best_all_mordin_speed', 'hrs_lto_mordin_speed_rank', 'hrs_lto_2_mordin_speed_rank',\n",
        "    'hrs_lto_3_mordin_speed_rank', 'hrs_best_last_3_mordin_speed_rank', 'hrs_best_last_5_mordin_speed_rank',\n",
        "    'hrs_best_last_10_mordin_speed_rank', 'hrs_best_all_mordin_speed_rank', 'hrs_best_all_mordin_speed_going',\n",
        "    'hrs_best_last_3_mordin_speed_going', 'hrs_best_last_3_mordin_speed_rank_going,'\n",
        "]\n",
        "\n",
        "# Keep only the pre-race features that exist in the dataframe\n",
        "df = df[[feature for feature in pre_race_features if feature in df.columns]]\n",
        "\n",
        "# Select only numerical columns for correlation calculation\n",
        "numerical_df = df.select_dtypes(include=['number'])\n",
        "\n",
        "# Calculate correlation matrix\n",
        "correlation_matrix = numerical_df.corr()\n",
        "\n",
        "# Define a threshold for high correlation (positive or negative)\n",
        "corr_threshold = 0.6\n",
        "\n",
        "# Identify columns with high absolute correlation\n",
        "high_corr_features = set()\n",
        "for i in range(len(correlation_matrix.columns)):\n",
        "    for j in range(i + 1, len(correlation_matrix.columns)):\n",
        "        if abs(correlation_matrix.iloc[i, j]) > corr_threshold:\n",
        "            high_corr_features.add(correlation_matrix.columns[i])\n",
        "            high_corr_features.add(correlation_matrix.columns[j])\n",
        "\n",
        "# Keep only columns with high positive or negative correlation, ensuring 'meeting_date' and 'position_official' are kept\n",
        "df = df[list(high_corr_features)]\n",
        "for col in ['meeting_date', 'position_official']:\n",
        "    if col in df_original.columns:\n",
        "        df[col] = df_original[col]\n",
        "\n",
        "# Display the columns that were kept and the new shape of the dataframe\n",
        "print(\"Kept Columns with High Correlation:\", list(df.columns))\n",
        "print(\"New DataFrame Shape after Keeping Highly Correlated Columns:\", df.shape)\n"
      ]
    },
    {
      "cell_type": "markdown",
      "source": [
        "#Plotting a graph for pairs of columns with highly positive or highly negetive correlations"
      ],
      "metadata": {
        "id": "4CGWZHJWgTtJ"
      }
    },
    {
      "cell_type": "code",
      "execution_count": null,
      "metadata": {
        "colab": {
          "base_uri": "https://localhost:8080/",
          "height": 542
        },
        "id": "XoMF5pzAeSHZ",
        "outputId": "00a257bb-a4e6-4126-e0a3-e7070ba4c65b"
      },
      "outputs": [
        {
          "output_type": "display_data",
          "data": {
            "text/plain": [
              "<Figure size 1000x600 with 1 Axes>"
            ],
            "image/png": "[encoded data removed]"
          },
          "metadata": {}
        }
      ],
      "source": [
        "# Plot pairs of columns with high correlation\n",
        "high_corr_pairs = []\n",
        "for i in range(len(correlation_matrix.columns)):\n",
        "    for j in range(i + 1, len(correlation_matrix.columns)):\n",
        "        corr_value = correlation_matrix.iloc[i, j]\n",
        "        if abs(corr_value) > corr_threshold:\n",
        "            high_corr_pairs.append((correlation_matrix.columns[i], correlation_matrix.columns[j], corr_value))\n",
        "\n",
        "# Identify pairs with high correlation and select any 20 pairs for plotting\n",
        "import random\n",
        "high_corr_pairs = []\n",
        "for i in range(len(correlation_matrix.columns)):\n",
        "    for j in range(i + 1, len(correlation_matrix.columns)):\n",
        "        corr_value = correlation_matrix.iloc[i, j]\n",
        "        if abs(corr_value) > corr_threshold:\n",
        "            high_corr_pairs.append((correlation_matrix.columns[i], correlation_matrix.columns[j], corr_value))\n",
        "\n",
        "# Randomly select 20 pairs from the high correlation pairs\n",
        "high_corr_pairs = random.sample(high_corr_pairs, min(20, len(high_corr_pairs)))\n",
        "\n",
        "# Plot the most highly correlated pairs\n",
        "plt.figure(figsize=(10, 6))\n",
        "plt.barh([f\"{pair[0]} & {pair[1]}\" for pair in high_corr_pairs], [pair[2] for pair in high_corr_pairs], color=['blue' if pair[2] > 0 else 'red' for pair in high_corr_pairs])\n",
        "\n",
        "plt.ylabel('Correlation Pairs')\n",
        "plt.xlabel('Correlation Coefficient')\n",
        "plt.title('Highly Correlated Pairs of Columns')\n",
        "plt.grid(axis='y', linestyle='--', alpha=0.7)\n",
        "plt.show()"
      ]
    },
    {
      "cell_type": "code",
      "execution_count": null,
      "metadata": {
        "colab": {
          "base_uri": "https://localhost:8080/"
        },
        "id": "MkuC3DGO1CQB",
        "outputId": "ea1825e5-b01a-426d-d20d-c685c98e7eeb"
      },
      "outputs": [
        {
          "output_type": "stream",
          "name": "stdout",
          "text": [
            "New DataFrame Shape after Removing Poorly Co-related features: (882983, 124)\n"
          ]
        }
      ],
      "source": [
        "# Display the new shape of the dataframe after removing poorly correlated features\n",
        "print(\"New DataFrame Shape after Removing Poorly Co-related features:\", df.shape)"
      ]
    },
    {
      "cell_type": "markdown",
      "source": [
        "#Feature Normalization"
      ],
      "metadata": {
        "id": "q919vyrUgor4"
      }
    },
    {
      "cell_type": "code",
      "execution_count": null,
      "metadata": {
        "colab": {
          "base_uri": "https://localhost:8080/"
        },
        "id": "EBxndnEOpdaJ",
        "outputId": "0a415f27-9443-4689-a51d-1f59f43e284b"
      },
      "outputs": [
        {
          "output_type": "stream",
          "name": "stdout",
          "text": [
            "DataFrame Shape after Normalization: (882983, 124)\n"
          ]
        }
      ],
      "source": [
        "# Feature Normalization\n",
        "scaler = StandardScaler()\n",
        "\n",
        "# Identify numerical columns and exclude datetime columns\n",
        "numerical_cols = df.select_dtypes(include=['number']).columns\n",
        "datetime_cols = df.select_dtypes(include=['datetime']).columns\n",
        "\n",
        "# Apply normalization to numerical features only\n",
        "df_scaled = df.copy()  # Create a copy to preserve the original dataframe\n",
        "df_scaled[numerical_cols] = scaler.fit_transform(df[numerical_cols])\n",
        "\n",
        "# Display the new shape of the dataframe after normalization\n",
        "print(\"DataFrame Shape after Normalization:\", df_scaled.shape)\n"
      ]
    },
    {
      "cell_type": "markdown",
      "metadata": {
        "id": "yv9TCWIiqiV8"
      },
      "source": [
        "#Sorting of the dataset on the basis of meeting date and rece number with Test, Train and Validation split\n",
        "\n",
        "\n",
        "\n"
      ]
    },
    {
      "cell_type": "code",
      "execution_count": null,
      "metadata": {
        "id": "vuqtc3CxqQPP",
        "colab": {
          "base_uri": "https://localhost:8080/"
        },
        "outputId": "22649be0-0029-4dd8-fbe9-5ad800cddd00"
      },
      "outputs": [
        {
          "output_type": "stream",
          "name": "stdout",
          "text": [
            "X_train column types:\n",
            " course_id                                    int64\n",
            "Unnamed: 0                                   int64\n",
            "race_number                                  int64\n",
            "horse_code                                   int64\n",
            "horse_age                                    int64\n",
            "                                            ...   \n",
            "hrs_best_last_10_mordin_speed_rank         float64\n",
            "hrs_best_all_mordin_speed_rank             float64\n",
            "hrs_best_all_mordin_speed_going            float64\n",
            "hrs_best_last_3_mordin_speed_going         float64\n",
            "hrs_best_last_3_mordin_speed_rank_going    float64\n",
            "Length: 222, dtype: object\n"
          ]
        }
      ],
      "source": [
        "# Sort data by 'meeting_date' and 'race_number'\n",
        "df_sorted = df_original.sort_values(by=['meeting_date', 'race_number'])\n",
        "\n",
        "# Split the data based on date ranges\n",
        "train_data = df_sorted[df_sorted['meeting_date'] < '2019-05-01']\n",
        "val_data = df_sorted[(df_sorted['meeting_date'] >= '2019-05-01') & (df_sorted['meeting_date'] < '2020-05-01')]\n",
        "test_data = df_sorted[(df_sorted['meeting_date'] >= '2020-05-01') & (df_sorted['meeting_date'] < '2021-05-01')]\n",
        "\n",
        "# Drop datetime columns from train, validation, and test datasets\n",
        "datetime_cols = df_sorted.select_dtypes(include=['datetime']).columns\n",
        "train_data = train_data.drop(columns=datetime_cols, errors='ignore')\n",
        "val_data = val_data.drop(columns=datetime_cols, errors='ignore')\n",
        "test_data = test_data.drop(columns=datetime_cols, errors='ignore')\n",
        "\n",
        "# Drop all non-numeric columns from train, validation, and test datasets\n",
        "train_data = train_data.select_dtypes(include=['number'])\n",
        "val_data = val_data.select_dtypes(include=['number'])\n",
        "test_data = test_data.select_dtypes(include=['number'])\n",
        "\n",
        "# Define features and target by dropping the target variable column\n",
        "X_train = train_data.drop(columns=['win'], errors='ignore')\n",
        "y_train = df_original.loc[train_data.index, 'win']\n",
        "X_val = val_data.drop(columns=['win'], errors='ignore')\n",
        "y_val = df_original.loc[val_data.index, 'win']\n",
        "X_test = test_data.drop(columns=['win'], errors='ignore')\n",
        "y_test = df_original.loc[test_data.index, 'win']\n",
        "# Verify that all columns are numeric\n",
        "print(\"X_train column types:\\n\", X_train.dtypes)"
      ]
    },
    {
      "cell_type": "markdown",
      "metadata": {
        "id": "a3bzlY1c6hx-"
      },
      "source": [
        "#Decision Tree Model Development\n"
      ]
    },
    {
      "cell_type": "code",
      "execution_count": null,
      "metadata": {
        "colab": {
          "base_uri": "https://localhost:8080/"
        },
        "id": "V7j4Ad9e6mOU",
        "outputId": "4f4cca9e-3be3-41f6-dcd7-9dd6bea2a880"
      },
      "outputs": [
        {
          "output_type": "stream",
          "name": "stdout",
          "text": [
            "Validation Accuracy: 0.40255101103785196\n",
            "Validation F1 Score: 0.17832560841616044\n",
            "Validation Precision: 0.10409141172134169\n",
            "Validation Recall: 0.6216977809087707\n",
            "Validation Classification Report:\n",
            "               precision    recall  f1-score   support\n",
            "\n",
            "           0       0.90      0.38      0.53     97542\n",
            "           1       0.10      0.62      0.18     11356\n",
            "\n",
            "    accuracy                           0.40    108898\n",
            "   macro avg       0.50      0.50      0.35    108898\n",
            "weighted avg       0.81      0.40      0.49    108898\n",
            "\n",
            "Test Accuracy: 0.4140882377286648\n",
            "Test F1 Score: 0.171806992090607\n",
            "Test Precision: 0.10005723786420997\n",
            "Test Recall: 0.6072787427626137\n",
            "Test Classification Report:\n",
            "               precision    recall  f1-score   support\n",
            "\n",
            "           0       0.90      0.39      0.55    108720\n",
            "           1       0.10      0.61      0.17     12090\n",
            "\n",
            "    accuracy                           0.41    120810\n",
            "   macro avg       0.50      0.50      0.36    120810\n",
            "weighted avg       0.82      0.41      0.51    120810\n",
            "\n"
          ]
        }
      ],
      "source": [
        "# Group data by race_id for block-wise processing using original DataFrame\n",
        "race_groups_train = X_train.groupby(df_original.loc[train_data.index, 'race_id'])\n",
        "race_groups_val = X_val.groupby(df_original.loc[val_data.index, 'race_id'])\n",
        "race_groups_test = X_test.groupby(df_original.loc[test_data.index, 'race_id'])\n",
        "\n",
        "# Initialize the Decision Tree Classifier\n",
        "clf = DecisionTreeClassifier()\n",
        "\n",
        "# Training: Iterate over each race block and fit the model\n",
        "for race_id, race_data in race_groups_train:\n",
        "    # Extract features and target for the current race block\n",
        "    race_X = race_data\n",
        "    race_y = y_train[df_original.loc[train_data.index, 'race_id'] == race_id]\n",
        "\n",
        "    # Fit the classifier\n",
        "    clf.fit(race_X, race_y)\n",
        "\n",
        "# Validation: Iterate over each race block and evaluate the model\n",
        "val_predictions = []\n",
        "val_probabilities = []\n",
        "\n",
        "for race_id, race_data in race_groups_val:\n",
        "    # Extract features and target for the current race block\n",
        "    race_X = race_data\n",
        "    race_y = y_val[df_original.loc[val_data.index, 'race_id'] == race_id]\n",
        "\n",
        "    # Predict using the classifier\n",
        "    preds = clf.predict(race_X)\n",
        "    probs = clf.predict_proba(race_X)[:, 1]\n",
        "\n",
        "    val_predictions.extend(preds)\n",
        "    val_probabilities.extend(probs)\n",
        "\n",
        "# Calculate metrics for validation data\n",
        "val_accuracy = accuracy_score(df_original.loc[val_data.index, 'win'], val_predictions)\n",
        "val_f1 = f1_score(df_original.loc[val_data.index, 'win'], val_predictions)\n",
        "val_precision = precision_score(df_original.loc[val_data.index, 'win'], val_predictions)\n",
        "val_recall = recall_score(df_original.loc[val_data.index, 'win'], val_predictions)\n",
        "\n",
        "\n",
        "print(\"Validation Accuracy:\", val_accuracy)\n",
        "print(\"Validation F1 Score:\", val_f1)\n",
        "print(\"Validation Precision:\", val_precision)\n",
        "print(\"Validation Recall:\", val_recall)\n",
        "print(\"Validation Classification Report:\\n\", classification_report(y_val, val_predictions))\n",
        "\n",
        "\n",
        "# Testing: Iterate over each race block and evaluate the model\n",
        "test_predictions = []\n",
        "test_probabilities = []\n",
        "\n",
        "for race_id, race_data in race_groups_test:\n",
        "    # Extract features and target for the current race block\n",
        "    race_X = race_data\n",
        "    race_y = y_test[df_original.loc[test_data.index, 'race_id'] == race_id]\n",
        "\n",
        "    # Predict using the classifier\n",
        "    preds = clf.predict(race_X)\n",
        "    probs = clf.predict_proba(race_X)[:, 1]\n",
        "\n",
        "    test_predictions.extend(preds)\n",
        "    test_probabilities.extend(probs)\n",
        "\n",
        "# Calculate metrics for test data\n",
        "test_accuracy = accuracy_score(df_original.loc[test_data.index, 'win'], test_predictions)\n",
        "test_f1 = f1_score(df_original.loc[test_data.index, 'win'], test_predictions)\n",
        "test_precision = precision_score(df_original.loc[test_data.index, 'win'], test_predictions)\n",
        "test_recall = recall_score(df_original.loc[test_data.index, 'win'], test_predictions)\n",
        "\n",
        "\n",
        "print(\"Test Accuracy:\", test_accuracy)\n",
        "print(\"Test F1 Score:\", test_f1)\n",
        "print(\"Test Precision:\", test_precision)\n",
        "print(\"Test Recall:\", test_recall)\n",
        "print(\"Test Classification Report:\\n\", classification_report(y_test, test_predictions))\n"
      ]
    },
    {
      "cell_type": "code",
      "execution_count": null,
      "metadata": {
        "id": "9Aop0NCI_jrA"
      },
      "outputs": [],
      "source": []
    }
  ],
  "metadata": {
    "accelerator": "TPU",
    "colab": {
      "gpuType": "V28",
      "machine_shape": "hm",
      "provenance": []
    },
    "kernelspec": {
      "display_name": "Python 3",
      "name": "python3"
    },
    "language_info": {
      "name": "python"
    }
  },
  "nbformat": 4,
  "nbformat_minor": 0
}